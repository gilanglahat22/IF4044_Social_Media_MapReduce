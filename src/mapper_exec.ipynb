{
 "cells": [
  {
   "cell_type": "code",
   "execution_count": 1,
   "metadata": {},
   "outputs": [],
   "source": [
    "import sys\n",
    "import json\n",
    "from datetime import datetime"
   ]
  },
  {
   "cell_type": "code",
   "execution_count": null,
   "metadata": {},
   "outputs": [],
   "source": [
    "for line in sys.stdin:\n",
    "\tdata = line.strip()\n",
    "\tjsondata = json.loads(data)\n",
    "\t\n",
    "\tfor i in jsondata:\n",
    "    \t\tcur_date = i['created_time'][:10]\n",
    "    \t\tprint(\"%s\\t%s\\t%s\" % ('facebook', cur_date, 1))\n",
    "    \t\tfor item in i['comments']['data']:\n",
    "        \t\tcur_date = item['created_time'][:10]\n",
    "        \t\tprint(\"%s\\t%s\\t%s\" % ('facebook', cur_date, 1))"
   ]
  },
  {
   "cell_type": "code",
   "execution_count": null,
   "metadata": {},
   "outputs": [],
   "source": [
    "for line in sys.stdin:\n",
    "\tdata = line.strip()\n",
    "\tjsondata = json.loads(data)\n",
    "\t\n",
    "\tfor i in jsondata:\n",
    "\t\tcur_date = datetime.utcfromtimestamp(int(i['created_time'])).strftime('%Y-%m-%d')\n",
    "\t\tprint(\"%s\\t%s\\t%s\" % ('instagram', cur_date, 1))"
   ]
  },
  {
   "cell_type": "code",
   "execution_count": null,
   "metadata": {},
   "outputs": [],
   "source": [
    "for line in sys.stdin:\n",
    "\tdata = line.strip()\n",
    "\tjsondata = json.loads(data)\n",
    "\t\n",
    "\tfor i in jsondata:\n",
    "\t\tcurdate = datetime.strftime(datetime.strptime(i['created_at'],'%a %b %d %H:%M:%S +0000 %Y'), '%Y-%m-%d')\n",
    "\t\tprint(\"%s\\t%s\\t%s\" % ('twitter', curdate, 1))"
   ]
  },
  {
   "cell_type": "code",
   "execution_count": null,
   "metadata": {},
   "outputs": [],
   "source": [
    "for line in sys.stdin:\n",
    "\tdata = line.strip()\n",
    "\tjsondata = json.loads(data)\n",
    "\t\n",
    "\tfor i in jsondata:\n",
    "\t\tif 'publishedAt' in i['snippet'].keys():\n",
    "\t\t\tcurdate = i['snippet']['publishedAt'][:10]\n",
    "\t\t\tprint(\"%s\\t%s\\t%s\" % ('youtube', curdate, 1))"
   ]
  },
  {
   "cell_type": "code",
   "execution_count": null,
   "metadata": {},
   "outputs": [],
   "source": [
    "datasrc = ['anaktester_go','byu.id','gridoto_news','myxl','telkomsel']\n",
    "linecount = 0\n",
    "\n",
    "for line in sys.stdin:\n",
    "\tdata = line.strip()\n",
    "\tjsondata = json.loads(data)\n",
    "\t\n",
    "\tfor i in jsondata[\"GraphImages\"]:\n",
    "\t\tif('taken_at_timestamp' in i.keys()):\n",
    "\t\t\tcurdate = datetime.utcfromtimestamp(i['taken_at_timestamp']).strftime('%Y-%m-%d')\n",
    "\t\t\tprint(\"%s\\t%s\\t%s\" % (datasrc[linecount], curdate, 1))\n",
    "\t\tif('comments' in i.keys()):\n",
    "\t\t\tfor item in i['comments']['data']:\n",
    "\t\t\t\tcurdate = datetime.utcfromtimestamp(item['created_at']).strftime('%Y-%m-%d')\n",
    "\t\t\t\tprint(\"%s\\t%s\\t%s\" % (datasrc[linecount], curdate, 1))\n",
    "\t\n",
    "\tlinecount += 1"
   ]
  }
 ],
 "metadata": {
  "kernelspec": {
   "display_name": "Python 3",
   "language": "python",
   "name": "python3"
  },
  "language_info": {
   "codemirror_mode": {
    "name": "ipython",
    "version": 3
   },
   "file_extension": ".py",
   "mimetype": "text/x-python",
   "name": "python",
   "nbconvert_exporter": "python",
   "pygments_lexer": "ipython3",
   "version": "3.11.2"
  },
  "orig_nbformat": 4,
  "vscode": {
   "interpreter": {
    "hash": "cf7c6d555f5ec10ee5a77619b8ce4ab3255cdafe038ed3ce02c70c3cd443b519"
   }
  }
 },
 "nbformat": 4,
 "nbformat_minor": 2
}
