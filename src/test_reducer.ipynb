{
 "cells": [
  {
   "cell_type": "code",
   "execution_count": null,
   "metadata": {},
   "outputs": [],
   "source": [
    "import sys"
   ]
  },
  {
   "cell_type": "code",
   "execution_count": null,
   "metadata": {},
   "outputs": [],
   "source": [
    "previous_key = None\n",
    "count = 0\n",
    "\n",
    "for line in sys.stdin:\n",
    "\tdata = line.strip().split(\"\\t\")\n",
    "\tcur_socmed, cur_date, current_count = data\n",
    "\tcur_key = (cur_socmed, cur_date)\n",
    "\n",
    "\tif(previous_key):\n",
    "\t\tif (previous_key != cur_key):\n",
    "\t\t\tprint(\"%s\\t%s\\t%s\" % (previous_key[0], previous_key[1], count))\n",
    "\t\t\tcount = 0\n",
    "\t\n",
    "\tprevious_key = cur_key\n",
    "\tcount += int(current_count)\n",
    "\n",
    "if (previous_key != None):\n",
    "\tprint(\"%s\\t%s\\t%s\" % (previous_key[0], previous_key[1], count))"
   ]
  }
 ],
 "metadata": {
  "kernelspec": {
   "display_name": "Python 3",
   "language": "python",
   "name": "python3"
  },
  "language_info": {
   "name": "python",
   "version": "3.11.2"
  },
  "orig_nbformat": 4,
  "vscode": {
   "interpreter": {
    "hash": "cf7c6d555f5ec10ee5a77619b8ce4ab3255cdafe038ed3ce02c70c3cd443b519"
   }
  }
 },
 "nbformat": 4,
 "nbformat_minor": 2
}
