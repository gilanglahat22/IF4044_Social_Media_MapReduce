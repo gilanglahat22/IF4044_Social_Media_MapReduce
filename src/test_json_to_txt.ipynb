{
 "cells": [
  {
   "cell_type": "code",
   "execution_count": null,
   "id": "11cdff64",
   "metadata": {},
   "outputs": [],
   "source": [
    "import json\n",
    "import fnmatch\n",
    "import os\n",
    "from convert_json_to_txt import *"
   ]
  },
  {
   "cell_type": "code",
   "execution_count": 3,
   "id": "56a56d5e",
   "metadata": {},
   "outputs": [],
   "source": [
    "convert_json_to_txt(\"facebook\",\"facebook_post\")"
   ]
  },
  {
   "cell_type": "code",
   "execution_count": null,
   "id": "09b69600",
   "metadata": {},
   "outputs": [],
   "source": [
    "# Out of socmed\n",
    "f1 = open('../raw_json/anaktester_go.json.json','r',encoding=\"utf8\")\n",
    "f2 = open('../raw_json/byu.id.json.json','r',encoding=\"utf8\")\n",
    "f3 = open('../raw_json/gridoto_news.json.json','r',encoding=\"utf8\")\n",
    "f4 = open('../raw_json/myxl.json.json','r',encoding=\"utf8\")\n",
    "f5 = open('../raw_json/telkomsel.json.json','r',encoding=\"utf8\")\n",
    "\n",
    "\n",
    "data1 = json.load(f1)\n",
    "data2 = json.load(f2)\n",
    "data3 = json.load(f3)\n",
    "data4 = json.load(f4)\n",
    "data5 = json.load(f5)\n",
    "\n",
    "wfile = open(\"others.txt\", \"w\")\n",
    "wfile.write(json.dumps(data1))\n",
    "wfile.write('\\n')\n",
    "wfile.write(json.dumps(data2))\n",
    "wfile.write('\\n')\n",
    "wfile.write(json.dumps(data3))\n",
    "wfile.write('\\n')\n",
    "wfile.write(json.dumps(data4))\n",
    "wfile.write('\\n')\n",
    "wfile.write(json.dumps(data5))\n",
    "\n",
    "\n",
    "f5.close()\n",
    "f4.close()\n",
    "f3.close()\n",
    "f2.close()\n",
    "f1.close()"
   ]
  }
 ],
 "metadata": {
  "kernelspec": {
   "display_name": "Python 3",
   "language": "python",
   "name": "python3"
  },
  "language_info": {
   "codemirror_mode": {
    "name": "ipython",
    "version": 3
   },
   "file_extension": ".py",
   "mimetype": "text/x-python",
   "name": "python",
   "nbconvert_exporter": "python",
   "pygments_lexer": "ipython3",
   "version": "3.11.2"
  },
  "vscode": {
   "interpreter": {
    "hash": "cf7c6d555f5ec10ee5a77619b8ce4ab3255cdafe038ed3ce02c70c3cd443b519"
   }
  }
 },
 "nbformat": 4,
 "nbformat_minor": 5
}
